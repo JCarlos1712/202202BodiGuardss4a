{
  "cells": [
    {
      "cell_type": "markdown",
      "metadata": {
        "id": "view-in-github",
        "colab_type": "text"
      },
      "source": [
        "<a href=\"https://colab.research.google.com/github/JCarlos1712/202202BodiGuardss4a/blob/main/DataScienceEcosystem.ipynb\" target=\"_parent\"><img src=\"https://colab.research.google.com/assets/colab-badge.svg\" alt=\"Open In Colab\"/></a>"
      ]
    },
    {
      "cell_type": "markdown",
      "metadata": {
        "id": "SvJMVK9A6OEQ"
      },
      "source": [
        "<center>\n",
        "    <img src=\"https://cf-courses-data.s3.us.cloud-object-storage.appdomain.cloud/IBMDeveloperSkillsNetwork-DS0105EN-SkillsNetwork/labs/Module2/images/SN_web_lightmode.png\" width=\"300\" alt=\"cognitiveclass.ai logo\">\n",
        "</center>\n"
      ]
    },
    {
      "cell_type": "markdown",
      "metadata": {
        "id": "L5Ejv2bu6OES"
      },
      "source": [
        "# Data Science Tools and Ecosystem"
      ]
    },
    {
      "cell_type": "markdown",
      "metadata": {
        "id": "OTlWBo6i6OET"
      },
      "source": [
        "In this notebook, Data Science Tools and Ecosystem are summarized.\n",
        "\n"
      ]
    },
    {
      "cell_type": "markdown",
      "metadata": {
        "id": "YG2NIJSZ6OET"
      },
      "source": [
        "**objectives:**\n",
        "- List some data science languages\n",
        "- list data science tools\n",
        "- evaluating arithmetic expressions"
      ]
    },
    {
      "cell_type": "markdown",
      "metadata": {
        "id": "T7zuYtuF6OET"
      },
      "source": [
        "Some of the popular languages that Data Scientists use are:\n",
        "1. Python\n",
        "2. R\n",
        "3. SQL\n"
      ]
    },
    {
      "cell_type": "markdown",
      "metadata": {
        "id": "l8-urlz-6OET"
      },
      "source": [
        " Some of the commonly used libraries used by Data Scientists include:\n",
        "1. Pandas\n",
        "2. Numpy\n",
        "3. Matplotlib"
      ]
    },
    {
      "cell_type": "markdown",
      "metadata": {
        "id": "xyoqkxHe6OET"
      },
      "source": [
        "|Data Science Tools|\n",
        "|------------------|\n",
        "|Jupyter Notebook|\n",
        "|RStudio|\n",
        "|VS code|"
      ]
    },
    {
      "cell_type": "markdown",
      "metadata": {
        "id": "xc1r7oW-6OEU"
      },
      "source": [
        "### Below are a few examples of evaluating arithmetic expressions in Python"
      ]
    },
    {
      "cell_type": "markdown",
      "metadata": {
        "id": "jEwNL1Mt6OEU"
      },
      "source": [
        "#This a simple arithmetic expression to mutiply then add integers\n"
      ]
    },
    {
      "cell_type": "code",
      "execution_count": null,
      "metadata": {
        "id": "2_wrbezO6OEU",
        "outputId": "5ee1c930-1b5e-43e4-a676-79c7b5ecd262"
      },
      "outputs": [
        {
          "data": {
            "text/plain": [
              "17"
            ]
          },
          "execution_count": 6,
          "metadata": {},
          "output_type": "execute_result"
        }
      ],
      "source": [
        "(3*4)+5"
      ]
    },
    {
      "cell_type": "markdown",
      "metadata": {
        "id": "9ltl2O8q6OEV"
      },
      "source": [
        "#This will convert 200 minutes to hours by diving by 60"
      ]
    },
    {
      "cell_type": "code",
      "execution_count": null,
      "metadata": {
        "id": "-6wGr_wP6OEW",
        "outputId": "2b267b2c-1ad3-4246-f1b4-faf1a1209a2d"
      },
      "outputs": [
        {
          "data": {
            "text/plain": [
              "3.3333333333333335"
            ]
          },
          "execution_count": 7,
          "metadata": {},
          "output_type": "execute_result"
        }
      ],
      "source": [
        "200/60"
      ]
    },
    {
      "cell_type": "markdown",
      "metadata": {
        "id": "ZleZHbR06OEW"
      },
      "source": [
        "## Author\n",
        "Juan Carlos Saravi I."
      ]
    },
    {
      "cell_type": "code",
      "execution_count": null,
      "metadata": {
        "id": "NSOOOIWt6OEW"
      },
      "outputs": [],
      "source": []
    }
  ],
  "metadata": {
    "kernelspec": {
      "display_name": "Python 3 (ipykernel)",
      "language": "python",
      "name": "python3"
    },
    "language_info": {
      "codemirror_mode": {
        "name": "ipython",
        "version": 3
      },
      "file_extension": ".py",
      "mimetype": "text/x-python",
      "name": "python",
      "nbconvert_exporter": "python",
      "pygments_lexer": "ipython3",
      "version": "3.12.8"
    },
    "colab": {
      "provenance": [],
      "include_colab_link": true
    }
  },
  "nbformat": 4,
  "nbformat_minor": 0
}